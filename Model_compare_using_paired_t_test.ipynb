{
  "nbformat": 4,
  "nbformat_minor": 0,
  "metadata": {
    "colab": {
      "name": "Model compare using paired t test.ipynb",
      "provenance": [],
      "collapsed_sections": [],
      "authorship_tag": "ABX9TyOyb1C+8z/c5MQIOSk0Ly3a",
      "include_colab_link": true
    },
    "kernelspec": {
      "name": "python3",
      "display_name": "Python 3"
    },
    "language_info": {
      "name": "python"
    }
  },
  "cells": [
    {
      "cell_type": "markdown",
      "metadata": {
        "id": "view-in-github",
        "colab_type": "text"
      },
      "source": [
        "<a href=\"https://colab.research.google.com/github/pramodcgupta/Machine-Learning-Predictions/blob/master/Model_compare_using_paired_t_test.ipynb\" target=\"_parent\"><img src=\"https://colab.research.google.com/assets/colab-badge.svg\" alt=\"Open In Colab\"/></a>"
      ]
    },
    {
      "cell_type": "markdown",
      "metadata": {
        "id": "TpNnW5bPCKL2"
      },
      "source": [
        "**Statistical Testing for Comparing Model Performance**"
      ]
    },
    {
      "cell_type": "markdown",
      "metadata": {
        "id": "SUvGx663DteF"
      },
      "source": [
        "**Reading Material Link:**\n",
        "\n",
        "http://rasbt.github.io/mlxtend/user_guide/evaluate/paired_ttest_resampled/"
      ]
    },
    {
      "cell_type": "code",
      "metadata": {
        "colab": {
          "base_uri": "https://localhost:8080/"
        },
        "id": "mlQfpQMU5IpY",
        "outputId": "0c1da211-5477-4597-d71d-9e56b8c8cc41"
      },
      "source": [
        "from sklearn.tree import DecisionTreeClassifier\n",
        "from sklearn.ensemble import RandomForestClassifier\n",
        "from mlxtend.data import iris_data\n",
        "from sklearn.model_selection import train_test_split\n",
        "\n",
        "X, y = iris_data()\n",
        "\n",
        "X_train,  X_test, y_train, y_test = train_test_split(X,y,test_size=0.25, random_state=123)\n",
        "\n",
        "#clf1=DecisionTreeClassifier(random_state=1)             # Classfier for checking Test 1: Both Model have same performance\n",
        "clf1=DecisionTreeClassifier(random_state=1, max_depth=1)  # Classfier for checking Test 2: Both Model have different performance\n",
        "clf2=RandomForestClassifier(random_state=1)\n",
        "\n",
        "score1 = clf1.fit(X_train, y_train).score(X_test, y_test)\n",
        "score2 = clf2.fit(X_train, y_train).score(X_test, y_test)\n",
        "\n",
        "print(f'Decision Tree Classifier Accuracy :  {score1 * 100 :.2f}%')\n",
        "print(f'Random Forest Classifier Accuracy :  {score2 * 100 :.2f}%')"
      ],
      "execution_count": 49,
      "outputs": [
        {
          "output_type": "stream",
          "text": [
            "Decision Tree Classifier Accuracy :  63.16%\n",
            "Random Forest Classifier Accuracy :  92.11%\n"
          ],
          "name": "stdout"
        }
      ]
    },
    {
      "cell_type": "markdown",
      "metadata": {
        "id": "SP7RdquqCX1c"
      },
      "source": [
        "**Resampled paired t test**"
      ]
    },
    {
      "cell_type": "code",
      "metadata": {
        "colab": {
          "base_uri": "https://localhost:8080/"
        },
        "id": "qfOh_LRX9EK6",
        "outputId": "e24b822d-aa8c-4cb5-f1df-5acc7c18f0ae"
      },
      "source": [
        "from mlxtend.evaluate import paired_ttest_resampled\n",
        "\n",
        "\n",
        "t, p = paired_ttest_resampled(estimator1=clf1,\n",
        "                              estimator2=clf2,\n",
        "                              X=X, y=y,\n",
        "                              random_seed=1)\n",
        "\n",
        "print('t statistic: %.3f' % t)\n",
        "print('p value: %.3f' % p)\n",
        "\n",
        "if p > 0.05: \n",
        "  print(\"The performance of the two algorithms are same\")\n",
        "else: \n",
        "  print(\"The performance of the two algorithms are significantly different\")"
      ],
      "execution_count": 50,
      "outputs": [
        {
          "output_type": "stream",
          "text": [
            "t statistic: -39.869\n",
            "p value: 0.000\n",
            "The performance of the two algorithms are significantly different\n"
          ],
          "name": "stdout"
        }
      ]
    },
    {
      "cell_type": "markdown",
      "metadata": {
        "id": "FK8CfXgXKKV7"
      },
      "source": [
        "**K Fold paired t test**"
      ]
    },
    {
      "cell_type": "code",
      "metadata": {
        "colab": {
          "base_uri": "https://localhost:8080/"
        },
        "id": "YT7SlAR4EZF_",
        "outputId": "a5a1c29b-3fe2-4606-8fd6-6d451a373ec7"
      },
      "source": [
        "from mlxtend.evaluate import paired_ttest_kfold_cv\n",
        "\n",
        "\n",
        "t, p = paired_ttest_kfold_cv(estimator1=clf1,\n",
        "                              estimator2=clf2,\n",
        "                              X=X, y=y,\n",
        "                              random_seed=1)\n",
        "\n",
        "print('t statistic: %.3f' % t)\n",
        "print('p value: %.3f' % p)\n",
        "\n",
        "if p > 0.05: \n",
        "  print(\"The performance of the two algorithms are same\")\n",
        "else: \n",
        "  print(\"The performance of the two algorithms are significantly different\")"
      ],
      "execution_count": 52,
      "outputs": [
        {
          "output_type": "stream",
          "text": [
            "/usr/local/lib/python3.7/dist-packages/sklearn/model_selection/_split.py:296: FutureWarning: Setting a random_state has no effect since shuffle is False. This will raise an error in 0.24. You should leave random_state to its default (None), or set shuffle=True.\n",
            "  FutureWarning\n"
          ],
          "name": "stderr"
        },
        {
          "output_type": "stream",
          "text": [
            "t statistic: -20.988\n",
            "p value: 0.000\n",
            "The performance of the two algorithms are significantly different\n"
          ],
          "name": "stdout"
        }
      ]
    },
    {
      "cell_type": "markdown",
      "metadata": {
        "id": "tzkhVJYBLAk2"
      },
      "source": [
        "**5x2cv paired t test**\n",
        "\n",
        "This is better as compared to above 2 methods\n",
        "The 5x2cv paired t test is a procedure for comparing the performance of two models (classifiers or regressors) that was proposed by Dietterich [1] to address shortcomings in other methods such as the resampled paired t test (see paired_ttest_resampled) and the k-fold cross-validated paired t test (see paired_ttest_kfold_cv)."
      ]
    },
    {
      "cell_type": "code",
      "metadata": {
        "colab": {
          "base_uri": "https://localhost:8080/"
        },
        "id": "7H2qWtm5KPXJ",
        "outputId": "84085857-0218-4461-9ba3-9679891a2be7"
      },
      "source": [
        "from mlxtend.evaluate import paired_ttest_5x2cv\n",
        "\n",
        "\n",
        "t, p = paired_ttest_5x2cv(estimator1=clf1,\n",
        "                          estimator2=clf2,\n",
        "                          X=X, y=y,\n",
        "                          random_seed=1)\n",
        "\n",
        "print('t statistic: %.3f' % t)\n",
        "print('p value: %.3f' % p)\n",
        "\n",
        "if p > 0.05: \n",
        "  print(\"The performance of the two algorithms are same\")\n",
        "else: \n",
        "  print(\"The performance of the two algorithms are significantly different\")"
      ],
      "execution_count": 53,
      "outputs": [
        {
          "output_type": "stream",
          "text": [
            "t statistic: -10.758\n",
            "p value: 0.000\n",
            "The performance of the two algorithms are significantly different\n"
          ],
          "name": "stdout"
        }
      ]
    },
    {
      "cell_type": "markdown",
      "metadata": {
        "id": "IaUBSBsnLUAW"
      },
      "source": [
        "**Regression Example**"
      ]
    },
    {
      "cell_type": "code",
      "metadata": {
        "colab": {
          "base_uri": "https://localhost:8080/"
        },
        "id": "n7o292b_EaWT",
        "outputId": "f34a24ae-2179-4908-a4c1-afe2ddaa3293"
      },
      "source": [
        "from sklearn.tree import DecisionTreeRegressor\n",
        "from sklearn.ensemble import RandomForestRegressor\n",
        "from mlxtend.data import boston_housing_data\n",
        "from sklearn.model_selection import train_test_split\n",
        "\n",
        "X,y = boston_housing_data()\n",
        "\n",
        "\n",
        "X_train,  X_test, y_train, y_test = train_test_split(X,y,test_size=0.25, random_state=123)\n",
        "\n",
        "clf1=DecisionTreeRegressor(random_state=1)            \n",
        "clf2=RandomForestRegressor(random_state=1)\n",
        "\n",
        "score1 = clf1.fit(X_train, y_train).score(X_test, y_test)\n",
        "score2 = clf2.fit(X_train, y_train).score(X_test, y_test)\n",
        "\n",
        "print(f'Decision Tree Regressor Accuracy :  {score1 * 100 :.2f}%')\n",
        "print(f'Random Forest Regressor Accuracy :  {score2 * 100 :.2f}%')"
      ],
      "execution_count": 55,
      "outputs": [
        {
          "output_type": "stream",
          "text": [
            "(506, 14)\n",
            "Decision Tree Regressor Accuracy :  48.33%\n",
            "Random Forest Regressor Accuracy :  80.45%\n"
          ],
          "name": "stdout"
        }
      ]
    },
    {
      "cell_type": "code",
      "metadata": {
        "colab": {
          "base_uri": "https://localhost:8080/"
        },
        "id": "tT3JD24IEuoT",
        "outputId": "42f0032a-7d19-4039-f97b-b59ef111026a"
      },
      "source": [
        "from mlxtend.evaluate import paired_ttest_resampled\n",
        "\n",
        "\n",
        "t, p = paired_ttest_resampled(estimator1=clf1,\n",
        "                              estimator2=clf2,\n",
        "                              X=X, y=y,\n",
        "                              random_seed=1)\n",
        "\n",
        "print('t statistic: %.3f' % t)\n",
        "print('p value: %.3f' % p)\n",
        "\n",
        "if p > 0.05: \n",
        "  print(\"The performance of the two algorithms are same\")\n",
        "else: \n",
        "  print(\"The performance of the two algorithms are significantly different\")"
      ],
      "execution_count": 56,
      "outputs": [
        {
          "output_type": "stream",
          "text": [
            "t statistic: -9.197\n",
            "p value: 0.000\n",
            "The performance of the two algorithms are significantly different\n"
          ],
          "name": "stdout"
        }
      ]
    },
    {
      "cell_type": "code",
      "metadata": {
        "colab": {
          "base_uri": "https://localhost:8080/"
        },
        "id": "ic_kJilhHRqe",
        "outputId": "400912e1-17f0-478a-8185-2bd22b25a1f5"
      },
      "source": [
        "from mlxtend.evaluate import paired_ttest_kfold_cv\n",
        "\n",
        "\n",
        "t, p = paired_ttest_kfold_cv(estimator1=clf1,\n",
        "                              estimator2=clf2,\n",
        "                              X=X, y=y,\n",
        "                              random_seed=1)\n",
        "\n",
        "print('t statistic: %.3f' % t)\n",
        "print('p value: %.3f' % p)\n",
        "\n",
        "if p > 0.05: \n",
        "  print(\"The performance of the two algorithms are same\")\n",
        "else: \n",
        "  print(\"The performance of the two algorithms are significantly different\")"
      ],
      "execution_count": 57,
      "outputs": [
        {
          "output_type": "stream",
          "text": [
            "/usr/local/lib/python3.7/dist-packages/sklearn/model_selection/_split.py:296: FutureWarning: Setting a random_state has no effect since shuffle is False. This will raise an error in 0.24. You should leave random_state to its default (None), or set shuffle=True.\n",
            "  FutureWarning\n"
          ],
          "name": "stderr"
        },
        {
          "output_type": "stream",
          "text": [
            "t statistic: -2.622\n",
            "p value: 0.028\n",
            "The performance of the two algorithms are significantly different\n"
          ],
          "name": "stdout"
        }
      ]
    },
    {
      "cell_type": "code",
      "metadata": {
        "colab": {
          "base_uri": "https://localhost:8080/"
        },
        "id": "uCDDRNwnLhEe",
        "outputId": "33d1d825-db17-4734-cd8c-451c60f7b3cb"
      },
      "source": [
        "from mlxtend.evaluate import paired_ttest_5x2cv\n",
        "\n",
        "\n",
        "t, p = paired_ttest_5x2cv(estimator1=clf1,\n",
        "                          estimator2=clf2,\n",
        "                          X=X, y=y,\n",
        "                          random_seed=1)\n",
        "\n",
        "print('t statistic: %.3f' % t)\n",
        "print('p value: %.3f' % p)\n",
        "\n",
        "if p > 0.05: \n",
        "  print(\"The performance of the two algorithms are same\")\n",
        "else: \n",
        "  print(\"The performance of the two algorithms are significantly different\")"
      ],
      "execution_count": 61,
      "outputs": [
        {
          "output_type": "stream",
          "text": [
            "t statistic: -1.494\n",
            "p value: 0.195\n",
            "The performance of the two algorithms are same\n"
          ],
          "name": "stdout"
        }
      ]
    },
    {
      "cell_type": "code",
      "metadata": {
        "id": "oUJ0_WJrMAu2"
      },
      "source": [
        ""
      ],
      "execution_count": null,
      "outputs": []
    }
  ]
}