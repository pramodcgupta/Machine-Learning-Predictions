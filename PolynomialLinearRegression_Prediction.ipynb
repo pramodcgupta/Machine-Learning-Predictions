{
  "nbformat": 4,
  "nbformat_minor": 0,
  "metadata": {
    "colab": {
      "name": "PolynomialLinearRegression Prediction.ipynb",
      "provenance": [],
      "include_colab_link": true
    },
    "kernelspec": {
      "name": "python3",
      "display_name": "Python 3"
    }
  },
  "cells": [
    {
      "cell_type": "markdown",
      "metadata": {
        "id": "view-in-github",
        "colab_type": "text"
      },
      "source": [
        "<a href=\"https://colab.research.google.com/github/pramodcgupta/Machine-Learning-Predictions/blob/master/PolynomialLinearRegression_Prediction.ipynb\" target=\"_parent\"><img src=\"https://colab.research.google.com/assets/colab-badge.svg\" alt=\"Open In Colab\"/></a>"
      ]
    },
    {
      "cell_type": "code",
      "metadata": {
        "id": "j0gng_8ZY93e",
        "colab_type": "code",
        "colab": {}
      },
      "source": [
        "\"\"\"\n",
        "Created on Sat Aug 31 13:41:34 2019\n",
        "Program: Simple Linear Regression\n",
        "Author: Pramodkumar Gupta\n",
        "\"\"\"\n",
        "\n",
        "# Import all libraries\n",
        "import matplotlib.pyplot as plt\n",
        "import pandas as pd\n",
        "\n",
        "# Read data into pandas dataframe\n",
        "\n",
        "df=pd.read_csv('Position_Salaries.csv')"
      ],
      "execution_count": 0,
      "outputs": []
    },
    {
      "cell_type": "code",
      "metadata": {
        "id": "jkrpu05eZIfK",
        "colab_type": "code",
        "colab": {}
      },
      "source": [
        "# Slice the data in indepedent and depedent variables\n",
        "\n",
        "X=df.iloc[:,1:2].values              \n",
        "y=df.iloc[:,2].values "
      ],
      "execution_count": 0,
      "outputs": []
    },
    {
      "cell_type": "code",
      "metadata": {
        "id": "MV7x7jICZIwC",
        "colab_type": "code",
        "colab": {}
      },
      "source": [
        "# Linear Regession classifier \n",
        "from sklearn.linear_model import LinearRegression\n",
        "lr1=LinearRegression()\n",
        "lr1.fit(X,y)\n",
        "\n",
        "# Predict using Linear Regression\n",
        "X_p = lr1.predict(X)"
      ],
      "execution_count": 0,
      "outputs": []
    },
    {
      "cell_type": "code",
      "metadata": {
        "id": "vNEBgyKNZI2N",
        "colab_type": "code",
        "colab": {}
      },
      "source": [
        "# Polynomial Regression\n",
        "from sklearn.preprocessing import PolynomialFeatures\n",
        "poly = PolynomialFeatures(degree=4)\n",
        "X_poly=poly.fit_transform(X)\n",
        "\n",
        "lr2=LinearRegression()\n",
        "lr2.fit(X_poly,y)\n",
        "\n",
        "# Predict using Polynomial Linear Regression\n",
        "x_p2=lr2.predict(X_poly) "
      ],
      "execution_count": 0,
      "outputs": []
    },
    {
      "cell_type": "code",
      "metadata": {
        "id": "Mb4ofNRVZJBa",
        "colab_type": "code",
        "colab": {
          "base_uri": "https://localhost:8080/",
          "height": 312
        },
        "outputId": "f1ae3760-6fed-4be1-b9d7-2c20fd6205d9"
      },
      "source": [
        "# Plotting the graph\n",
        "plt.scatter(X,y,color='blue')\n",
        "plt.plot(X,X_p,color='red' )              # Red - Linear Regression\n",
        "plt.plot(X,x_p2,color='green' )           # Green - Polynomial Regression\n",
        "plt.title('Expireince Salary Graph')\n",
        "plt.xlabel('Experience')\n",
        "plt.ylabel('Salary')\n",
        "plt.figure(figsize=(12,7))\n",
        "plt.show()"
      ],
      "execution_count": 6,
      "outputs": [
        {
          "output_type": "display_data",
          "data": {
            "image/png": "[encoded data removed]",
            "text/plain": [
              "<Figure size 432x288 with 1 Axes>"
            ]
          },
          "metadata": {
            "tags": []
          }
        },
        {
          "output_type": "display_data",
          "data": {
            "text/plain": [
              "<Figure size 864x504 with 0 Axes>"
            ]
          },
          "metadata": {
            "tags": []
          }
        }
      ]
    }
  ]
}