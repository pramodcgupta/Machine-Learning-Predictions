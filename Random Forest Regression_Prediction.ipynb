{
  "nbformat": 4,
  "nbformat_minor": 0,
  "metadata": {
    "colab": {
      "name": "PolynomialLinearRegression Prediction.ipynb",
      "provenance": [],
      "collapsed_sections": [],
      "include_colab_link": true
    },
    "kernelspec": {
      "name": "python3",
      "display_name": "Python 3"
    }
  },
  "cells": [
    {
      "cell_type": "markdown",
      "metadata": {
        "id": "view-in-github",
        "colab_type": "text"
      },
      "source": [
        "<a href=\"https://colab.research.google.com/github/pramodcgupta/Machine-Learning-Predictions/blob/master/Random%20Forest%20Regression_Prediction.ipynb\" target=\"_parent\"><img src=\"https://colab.research.google.com/assets/colab-badge.svg\" alt=\"Open In Colab\"/></a>"
      ]
    },
    {
      "cell_type": "code",
      "metadata": {
        "id": "j0gng_8ZY93e",
        "colab_type": "code",
        "colab": {}
      },
      "source": [
        "\"\"\"\n",
        "Created on Sat Aug 31 13:41:34 2019\n",
        "Program: Random Forest Regression\n",
        "Author: Pramodkumar Gupta\n",
        "\"\"\"\n",
        "\n",
        "# Import all libraries\n",
        "import matplotlib.pyplot as plt\n",
        "import pandas as pd\n",
        "\n",
        "# Read data into pandas dataframes\n",
        "\n",
        "df=pd.read_csv('Position_Salaries.csv')"
      ],
      "execution_count": 0,
      "outputs": []
    },
    {
      "cell_type": "code",
      "metadata": {
        "id": "jkrpu05eZIfK",
        "colab_type": "code",
        "colab": {}
      },
      "source": [
        "# Slice the data in indepedent and depedent variables\n",
        "\n",
        "X=df.iloc[:,1:2].values              \n",
        "y=df.iloc[:,2].values "
      ],
      "execution_count": 0,
      "outputs": []
    },
    {
      "cell_type": "code",
      "metadata": {
        "id": "VXCguZFjabaJ",
        "colab_type": "code",
        "outputId": "2db0448c-eb07-49b6-eadd-b2b4405ed7e0",
        "colab": {
          "base_uri": "https://localhost:8080/",
          "height": 450
        }
      },
      "source": [
        "import seaborn as sns\n",
        "sns.pairplot(df,hue=\"Salary\")"
      ],
      "execution_count": 3,
      "outputs": [
        {
          "output_type": "stream",
          "text": [
            "/usr/local/lib/python3.6/dist-packages/numpy/core/_methods.py:217: RuntimeWarning: Degrees of freedom <= 0 for slice\n",
            "  keepdims=keepdims)\n",
            "/usr/local/lib/python3.6/dist-packages/numpy/core/_methods.py:209: RuntimeWarning: invalid value encountered in double_scalars\n",
            "  ret = ret.dtype.type(ret / rcount)\n"
          ],
          "name": "stderr"
        },
        {
          "output_type": "execute_result",
          "data": {
            "text/plain": [
              "<seaborn.axisgrid.PairGrid at 0x7fdcdfde7a90>"
            ]
          },
          "metadata": {
            "tags": []
          },
          "execution_count": 3
        },
        {
          "output_type": "display_data",
          "data": {
            "image/png": "[encoded data removed]",
            "text/plain": [
              "<Figure size 439.875x360 with 6 Axes>"
            ]
          },
          "metadata": {
            "tags": []
          }
        }
      ]
    },
    {
      "cell_type": "code",
      "metadata": {
        "id": "MV7x7jICZIwC",
        "colab_type": "code",
        "colab": {
          "base_uri": "https://localhost:8080/",
          "height": 71
        },
        "outputId": "fc9fe33b-2328-4deb-b3d5-ecd135a3eb72"
      },
      "source": [
        "from sklearn.ensemble import RandomForestRegressor  \n",
        "model = RandomForestRegressor(random_state = 0)  \n",
        "model.fit(X, y) \n",
        "\n",
        "y_pred = model.predict(X)"
      ],
      "execution_count": 4,
      "outputs": [
        {
          "output_type": "stream",
          "text": [
            "/usr/local/lib/python3.6/dist-packages/sklearn/ensemble/forest.py:245: FutureWarning: The default value of n_estimators will change from 10 in version 0.20 to 100 in 0.22.\n",
            "  \"10 in version 0.20 to 100 in 0.22.\", FutureWarning)\n"
          ],
          "name": "stderr"
        }
      ]
    },
    {
      "cell_type": "code",
      "metadata": {
        "id": "gdhQFJzsT3sQ",
        "colab_type": "code",
        "colab": {
          "base_uri": "https://localhost:8080/",
          "height": 295
        },
        "outputId": "fb8ac5ff-8ae2-43c5-a38b-1d53ba72c0db"
      },
      "source": [
        "import numpy as np\n",
        "# Visualising the Random Forest Regression results \n",
        "  \n",
        "# arange for creating a range of values \n",
        "# from min value of x to max  \n",
        "# value of x with a difference of 0.01  \n",
        "# between two consecutive values \n",
        "X_grid = np.arange(min(X), max(X), 0.01)  \n",
        "  \n",
        "# reshape for reshaping the data into a len(X_grid)*1 array,  \n",
        "# i.e. to make a column out of the X_grid value                   \n",
        "X_grid = X_grid.reshape((len(X_grid), 1)) \n",
        "  \n",
        "# Scatter plot for original data \n",
        "plt.scatter(X, y, color = 'blue')   \n",
        "  \n",
        "# plot predicted data \n",
        "plt.plot(X_grid, model.predict(X_grid), color = 'green')  \n",
        "plt.title('Decision Regression') \n",
        "plt.xlabel('Position level') \n",
        "plt.ylabel('Salary') \n",
        "plt.show()"
      ],
      "execution_count": 5,
      "outputs": [
        {
          "output_type": "display_data",
          "data": {
            "image/png": "[encoded data removed]",
            "text/plain": [
              "<Figure size 432x288 with 1 Axes>"
            ]
          },
          "metadata": {
            "tags": []
          }
        }
      ]
    }
  ]
}