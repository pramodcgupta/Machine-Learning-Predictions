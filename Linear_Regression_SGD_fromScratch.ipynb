{
  "nbformat": 4,
  "nbformat_minor": 0,
  "metadata": {
    "colab": {
      "name": "Linear Regression_SGD_fromScratch.ipynb",
      "provenance": [],
      "authorship_tag": "ABX9TyP2YbZ4nC6eofczY2ENj7sI",
      "include_colab_link": true
    },
    "kernelspec": {
      "name": "python3",
      "display_name": "Python 3"
    },
    "language_info": {
      "name": "python"
    }
  },
  "cells": [
    {
      "cell_type": "markdown",
      "metadata": {
        "id": "view-in-github",
        "colab_type": "text"
      },
      "source": [
        "<a href=\"https://colab.research.google.com/github/pramodcgupta/Machine-Learning-Predictions/blob/master/Linear_Regression_SGD_fromScratch.ipynb\" target=\"_parent\"><img src=\"https://colab.research.google.com/assets/colab-badge.svg\" alt=\"Open In Colab\"/></a>"
      ]
    },
    {
      "cell_type": "code",
      "execution_count": 1,
      "metadata": {
        "id": "xiQyHQV0SewY"
      },
      "outputs": [],
      "source": [
        "import numpy as np\n",
        "\n",
        "## Define dataset\n",
        "dataset = np.array([[1, 1], [2, 3], [4, 3], [3, 2], [5, 5]])\n",
        "\n",
        "## Define coefficient\n",
        "coef = np.array([0.4, 0.8])"
      ]
    },
    {
      "cell_type": "code",
      "source": [
        "def predict(row, coef): \n",
        "  yhat = coef[0] \n",
        "  for i in range(len(row)-1):\n",
        "    yhat += coef[i + 1] * row[i]\n",
        "\n",
        "  return yhat"
      ],
      "metadata": {
        "id": "gTeW6MG8S7tW"
      },
      "execution_count": 2,
      "outputs": []
    },
    {
      "cell_type": "code",
      "source": [
        "### get the predicted value\n",
        "for row in dataset: \n",
        "  yhat=predict(row, coef)\n",
        "  print(\"Expected: %.3f Predicted: %.3f\" %(row[-1], yhat))"
      ],
      "metadata": {
        "colab": {
          "base_uri": "https://localhost:8080/"
        },
        "id": "e3_UCFJSSz5R",
        "outputId": "aa6acd3a-16ad-4592-8230-fce6f6d90f3e"
      },
      "execution_count": 3,
      "outputs": [
        {
          "output_type": "stream",
          "name": "stdout",
          "text": [
            "Expected: 1.000 Predicted: 1.200\n",
            "Expected: 3.000 Predicted: 2.000\n",
            "Expected: 3.000 Predicted: 3.600\n",
            "Expected: 2.000 Predicted: 2.800\n",
            "Expected: 5.000 Predicted: 4.400\n"
          ]
        }
      ]
    },
    {
      "cell_type": "code",
      "source": [
        "## # Estimate linear regression coefficients using stochastic gradient descent\n",
        "\n",
        "def coefficients_sgd(train, learning_rate, n_epoch): \n",
        "  ## Initial weight assignment\n",
        "  coef = [0.0 for i in range(len(train[0]))]\n",
        "  for epoch in range(n_epoch): \n",
        "    sum_error=0.0    \n",
        "    for row in train: \n",
        "      ## Get y_pred\n",
        "      y_pred=predict(row, coef)\n",
        "      ## Calculate error\n",
        "      error = y_pred - row[-1]  \n",
        "      ## Get sum of squared error\n",
        "      sum_error += error**2\n",
        "      ## Update the coefficients\n",
        "      coef[0] = coef[0] - learning_rate*error\n",
        "      for col in range(len(row) -1):        \n",
        "        coef[col+1] = coef[col+1] - learning_rate*error*row[col]\n",
        "    print('>epoch=%d, lrate=%.3f, error=%.3f' % (epoch, learning_rate, sum_error))\n",
        "  return coef"
      ],
      "metadata": {
        "id": "T_MjahcmKqCw"
      },
      "execution_count": 4,
      "outputs": []
    },
    {
      "cell_type": "code",
      "source": [
        "# Calculate coefficients\n",
        "dataset = np.array([[1,  1], [2,  3], [4, 3], [3, 2], [5,  5]])\n",
        "\n",
        "l_rate = 0.001\n",
        "n_epoch = 50\n",
        "coef = coefficients_sgd(dataset, l_rate, n_epoch)\n",
        "print(coef)"
      ],
      "metadata": {
        "colab": {
          "base_uri": "https://localhost:8080/"
        },
        "id": "ziAiQ38bKt_8",
        "outputId": "f88b3e55-bc48-4b3a-cd19-173c8cf14ab8"
      },
      "execution_count": 5,
      "outputs": [
        {
          "output_type": "stream",
          "name": "stdout",
          "text": [
            ">epoch=0, lrate=0.001, error=46.236\n",
            ">epoch=1, lrate=0.001, error=41.305\n",
            ">epoch=2, lrate=0.001, error=36.930\n",
            ">epoch=3, lrate=0.001, error=33.047\n",
            ">epoch=4, lrate=0.001, error=29.601\n",
            ">epoch=5, lrate=0.001, error=26.543\n",
            ">epoch=6, lrate=0.001, error=23.830\n",
            ">epoch=7, lrate=0.001, error=21.422\n",
            ">epoch=8, lrate=0.001, error=19.285\n",
            ">epoch=9, lrate=0.001, error=17.389\n",
            ">epoch=10, lrate=0.001, error=15.706\n",
            ">epoch=11, lrate=0.001, error=14.213\n",
            ">epoch=12, lrate=0.001, error=12.888\n",
            ">epoch=13, lrate=0.001, error=11.712\n",
            ">epoch=14, lrate=0.001, error=10.668\n",
            ">epoch=15, lrate=0.001, error=9.742\n",
            ">epoch=16, lrate=0.001, error=8.921\n",
            ">epoch=17, lrate=0.001, error=8.191\n",
            ">epoch=18, lrate=0.001, error=7.544\n",
            ">epoch=19, lrate=0.001, error=6.970\n",
            ">epoch=20, lrate=0.001, error=6.461\n",
            ">epoch=21, lrate=0.001, error=6.009\n",
            ">epoch=22, lrate=0.001, error=5.607\n",
            ">epoch=23, lrate=0.001, error=5.251\n",
            ">epoch=24, lrate=0.001, error=4.935\n",
            ">epoch=25, lrate=0.001, error=4.655\n",
            ">epoch=26, lrate=0.001, error=4.406\n",
            ">epoch=27, lrate=0.001, error=4.186\n",
            ">epoch=28, lrate=0.001, error=3.990\n",
            ">epoch=29, lrate=0.001, error=3.816\n",
            ">epoch=30, lrate=0.001, error=3.662\n",
            ">epoch=31, lrate=0.001, error=3.525\n",
            ">epoch=32, lrate=0.001, error=3.404\n",
            ">epoch=33, lrate=0.001, error=3.296\n",
            ">epoch=34, lrate=0.001, error=3.200\n",
            ">epoch=35, lrate=0.001, error=3.115\n",
            ">epoch=36, lrate=0.001, error=3.040\n",
            ">epoch=37, lrate=0.001, error=2.973\n",
            ">epoch=38, lrate=0.001, error=2.914\n",
            ">epoch=39, lrate=0.001, error=2.862\n",
            ">epoch=40, lrate=0.001, error=2.815\n",
            ">epoch=41, lrate=0.001, error=2.773\n",
            ">epoch=42, lrate=0.001, error=2.737\n",
            ">epoch=43, lrate=0.001, error=2.704\n",
            ">epoch=44, lrate=0.001, error=2.675\n",
            ">epoch=45, lrate=0.001, error=2.650\n",
            ">epoch=46, lrate=0.001, error=2.627\n",
            ">epoch=47, lrate=0.001, error=2.607\n",
            ">epoch=48, lrate=0.001, error=2.589\n",
            ">epoch=49, lrate=0.001, error=2.573\n",
            "[0.22998234937311363, 0.8017220304137576]\n"
          ]
        }
      ]
    },
    {
      "cell_type": "code",
      "source": [
        ""
      ],
      "metadata": {
        "id": "ozFV_NYaA-Fx"
      },
      "execution_count": 5,
      "outputs": []
    }
  ]
}